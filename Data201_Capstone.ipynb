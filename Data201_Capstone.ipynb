{
  "nbformat": 4,
  "nbformat_minor": 0,
  "metadata": {
    "colab": {
      "provenance": [],
      "authorship_tag": "ABX9TyPSsgtE8EPAmtLXJ48YlN4Q",
      "include_colab_link": true
    },
    "kernelspec": {
      "name": "python3",
      "display_name": "Python 3"
    },
    "language_info": {
      "name": "python"
    }
  },
  "cells": [
    {
      "cell_type": "markdown",
      "metadata": {
        "id": "view-in-github",
        "colab_type": "text"
      },
      "source": [
        "<a href=\"https://colab.research.google.com/github/UrvashiKumar/Data201_Python2022/blob/main/Data201_Capstone.ipynb\" target=\"_parent\"><img src=\"https://colab.research.google.com/assets/colab-badge.svg\" alt=\"Open In Colab\"/></a>"
      ]
    },
    {
      "cell_type": "markdown",
      "source": [
        "## **Data 201 - CAPSTONE**\n",
        "___"
      ],
      "metadata": {
        "id": "QbM_OF_D9pKo"
      }
    },
    {
      "cell_type": "markdown",
      "source": [
        "Data Set: **311 Service Requests from 2010 to Present**\n",
        "\n",
        "Project Topic: **New York City Rat Sightings Analysis**\n",
        "\n",
        "Data Source: https://data.cityofnewyork.us/Social-Services/311-Service-Requests-from-2010-to-Present/erm2-nwe9\n",
        "___\n"
      ],
      "metadata": {
        "id": "bDp-97rD9o4M"
      }
    },
    {
      "cell_type": "markdown",
      "source": [
        "**Overview**\n",
        "\n",
        "The Data source for this project is obtained from NYC Open Data page, and consists of 311 call information for a period from 2010 to present. \n",
        "\n",
        "The specific subset of data used is for complaints category related to Rodent and Rat sighting reports. The analysis seeks to study overall trends, specific insights, or any particular observations that can be inferred from the data."
      ],
      "metadata": {
        "id": "I4dgvU40-X_V"
      }
    },
    {
      "cell_type": "markdown",
      "source": [
        "### **Set up Basics**\n",
        "___"
      ],
      "metadata": {
        "id": "D1iPaXDCvh2i"
      }
    },
    {
      "cell_type": "code",
      "execution_count": 293,
      "metadata": {
        "id": "FjE1dxncKn-J"
      },
      "outputs": [],
      "source": [
        "# Load various libraries we need for this analysis\n",
        "import pandas as pd\n",
        "from google.colab import drive\n",
        "from google.colab import files\n",
        "import numpy as np\n",
        "import seaborn as sns\n",
        "import matplotlib as mpl\n",
        "%matplotlib inline\n",
        "import plotly.express as px\n",
        "import json\n",
        "import matplotlib.pyplot as plt\n",
        "import missingno as msno"
      ]
    },
    {
      "cell_type": "markdown",
      "source": [
        "### **Importing and Reading the Data**\n",
        "____"
      ],
      "metadata": {
        "id": "eorAblWrLBol"
      }
    },
    {
      "cell_type": "code",
      "source": [
        "# Uploding the file and reading the data\n",
        "df_rodent = pd.read_csv('/content/NYC_Rodents_RatSighting.csv')"
      ],
      "metadata": {
        "id": "8zIiGd1aK2Ny"
      },
      "execution_count": 294,
      "outputs": []
    },
    {
      "cell_type": "code",
      "source": [
        "# Seeing the first 5 records in the data set \n",
        "df_rodent.head()"
      ],
      "metadata": {
        "colab": {
          "base_uri": "https://localhost:8080/",
          "height": 354
        },
        "id": "3_JANXprK2Ql",
        "outputId": "7dbc56de-8c56-453b-ffae-98a5e5757144"
      },
      "execution_count": 295,
      "outputs": [
        {
          "output_type": "execute_result",
          "data": {
            "text/plain": [
              "   Unique Key Created Date  Year Agency Complaint Type  \\\n",
              "0    40177738     9/3/2018  2018  DOHMH         Rodent   \n",
              "1    40182786     9/3/2018  2018  DOHMH         Rodent   \n",
              "2    40208548     9/6/2018  2018  DOHMH         Rodent   \n",
              "3    39774074    7/19/2018  2018  DOHMH         Rodent   \n",
              "4    40274380    9/13/2018  2018  DOHMH         Rodent   \n",
              "\n",
              "                     Descriptor                 Location Type  Incident Zip  \\\n",
              "0                  Rat Sighting       3+ Family Apt. Building       11229.0   \n",
              "1                Mouse Sighting  3+ Family Mixed Use Building       11238.0   \n",
              "2  Condition Attracting Rodents                    Vacant Lot       10460.0   \n",
              "3  Condition Attracting Rodents           1-2 Family Dwelling       11215.0   \n",
              "4  Condition Attracting Rodents           Commercial Building       11207.0   \n",
              "\n",
              "   Status   Borough Open Data Channel Type   Latitude  Longitude  \\\n",
              "0  Closed  BROOKLYN                  PHONE  40.598479 -73.959684   \n",
              "1  Closed  BROOKLYN                 ONLINE  40.675409 -73.958065   \n",
              "2  Closed     BRONX                  PHONE  40.843550 -73.870303   \n",
              "3  Closed  BROOKLYN                  PHONE  40.664071 -73.979209   \n",
              "4  Closed  BROOKLYN                  PHONE  40.659647 -73.883247   \n",
              "\n",
              "                                   Location  \n",
              "0   (40.598478991333735, -73.9596835550102)  \n",
              "1   (40.67540930181273, -73.95806521641663)  \n",
              "2   (40.84355010845945, -73.87030315388336)  \n",
              "3   (40.66407090346956, -73.97920918932644)  \n",
              "4  (40.659646586116985, -73.88324683494396)  "
            ],
            "text/html": [
              "\n",
              "  <div id=\"df-b28e4a0d-c545-40df-a35b-842537159b79\">\n",
              "    <div class=\"colab-df-container\">\n",
              "      <div>\n",
              "<style scoped>\n",
              "    .dataframe tbody tr th:only-of-type {\n",
              "        vertical-align: middle;\n",
              "    }\n",
              "\n",
              "    .dataframe tbody tr th {\n",
              "        vertical-align: top;\n",
              "    }\n",
              "\n",
              "    .dataframe thead th {\n",
              "        text-align: right;\n",
              "    }\n",
              "</style>\n",
              "<table border=\"1\" class=\"dataframe\">\n",
              "  <thead>\n",
              "    <tr style=\"text-align: right;\">\n",
              "      <th></th>\n",
              "      <th>Unique Key</th>\n",
              "      <th>Created Date</th>\n",
              "      <th>Year</th>\n",
              "      <th>Agency</th>\n",
              "      <th>Complaint Type</th>\n",
              "      <th>Descriptor</th>\n",
              "      <th>Location Type</th>\n",
              "      <th>Incident Zip</th>\n",
              "      <th>Status</th>\n",
              "      <th>Borough</th>\n",
              "      <th>Open Data Channel Type</th>\n",
              "      <th>Latitude</th>\n",
              "      <th>Longitude</th>\n",
              "      <th>Location</th>\n",
              "    </tr>\n",
              "  </thead>\n",
              "  <tbody>\n",
              "    <tr>\n",
              "      <th>0</th>\n",
              "      <td>40177738</td>\n",
              "      <td>9/3/2018</td>\n",
              "      <td>2018</td>\n",
              "      <td>DOHMH</td>\n",
              "      <td>Rodent</td>\n",
              "      <td>Rat Sighting</td>\n",
              "      <td>3+ Family Apt. Building</td>\n",
              "      <td>11229.0</td>\n",
              "      <td>Closed</td>\n",
              "      <td>BROOKLYN</td>\n",
              "      <td>PHONE</td>\n",
              "      <td>40.598479</td>\n",
              "      <td>-73.959684</td>\n",
              "      <td>(40.598478991333735, -73.9596835550102)</td>\n",
              "    </tr>\n",
              "    <tr>\n",
              "      <th>1</th>\n",
              "      <td>40182786</td>\n",
              "      <td>9/3/2018</td>\n",
              "      <td>2018</td>\n",
              "      <td>DOHMH</td>\n",
              "      <td>Rodent</td>\n",
              "      <td>Mouse Sighting</td>\n",
              "      <td>3+ Family Mixed Use Building</td>\n",
              "      <td>11238.0</td>\n",
              "      <td>Closed</td>\n",
              "      <td>BROOKLYN</td>\n",
              "      <td>ONLINE</td>\n",
              "      <td>40.675409</td>\n",
              "      <td>-73.958065</td>\n",
              "      <td>(40.67540930181273, -73.95806521641663)</td>\n",
              "    </tr>\n",
              "    <tr>\n",
              "      <th>2</th>\n",
              "      <td>40208548</td>\n",
              "      <td>9/6/2018</td>\n",
              "      <td>2018</td>\n",
              "      <td>DOHMH</td>\n",
              "      <td>Rodent</td>\n",
              "      <td>Condition Attracting Rodents</td>\n",
              "      <td>Vacant Lot</td>\n",
              "      <td>10460.0</td>\n",
              "      <td>Closed</td>\n",
              "      <td>BRONX</td>\n",
              "      <td>PHONE</td>\n",
              "      <td>40.843550</td>\n",
              "      <td>-73.870303</td>\n",
              "      <td>(40.84355010845945, -73.87030315388336)</td>\n",
              "    </tr>\n",
              "    <tr>\n",
              "      <th>3</th>\n",
              "      <td>39774074</td>\n",
              "      <td>7/19/2018</td>\n",
              "      <td>2018</td>\n",
              "      <td>DOHMH</td>\n",
              "      <td>Rodent</td>\n",
              "      <td>Condition Attracting Rodents</td>\n",
              "      <td>1-2 Family Dwelling</td>\n",
              "      <td>11215.0</td>\n",
              "      <td>Closed</td>\n",
              "      <td>BROOKLYN</td>\n",
              "      <td>PHONE</td>\n",
              "      <td>40.664071</td>\n",
              "      <td>-73.979209</td>\n",
              "      <td>(40.66407090346956, -73.97920918932644)</td>\n",
              "    </tr>\n",
              "    <tr>\n",
              "      <th>4</th>\n",
              "      <td>40274380</td>\n",
              "      <td>9/13/2018</td>\n",
              "      <td>2018</td>\n",
              "      <td>DOHMH</td>\n",
              "      <td>Rodent</td>\n",
              "      <td>Condition Attracting Rodents</td>\n",
              "      <td>Commercial Building</td>\n",
              "      <td>11207.0</td>\n",
              "      <td>Closed</td>\n",
              "      <td>BROOKLYN</td>\n",
              "      <td>PHONE</td>\n",
              "      <td>40.659647</td>\n",
              "      <td>-73.883247</td>\n",
              "      <td>(40.659646586116985, -73.88324683494396)</td>\n",
              "    </tr>\n",
              "  </tbody>\n",
              "</table>\n",
              "</div>\n",
              "      <button class=\"colab-df-convert\" onclick=\"convertToInteractive('df-b28e4a0d-c545-40df-a35b-842537159b79')\"\n",
              "              title=\"Convert this dataframe to an interactive table.\"\n",
              "              style=\"display:none;\">\n",
              "        \n",
              "  <svg xmlns=\"http://www.w3.org/2000/svg\" height=\"24px\"viewBox=\"0 0 24 24\"\n",
              "       width=\"24px\">\n",
              "    <path d=\"M0 0h24v24H0V0z\" fill=\"none\"/>\n",
              "    <path d=\"M18.56 5.44l.94 2.06.94-2.06 2.06-.94-2.06-.94-.94-2.06-.94 2.06-2.06.94zm-11 1L8.5 8.5l.94-2.06 2.06-.94-2.06-.94L8.5 2.5l-.94 2.06-2.06.94zm10 10l.94 2.06.94-2.06 2.06-.94-2.06-.94-.94-2.06-.94 2.06-2.06.94z\"/><path d=\"M17.41 7.96l-1.37-1.37c-.4-.4-.92-.59-1.43-.59-.52 0-1.04.2-1.43.59L10.3 9.45l-7.72 7.72c-.78.78-.78 2.05 0 2.83L4 21.41c.39.39.9.59 1.41.59.51 0 1.02-.2 1.41-.59l7.78-7.78 2.81-2.81c.8-.78.8-2.07 0-2.86zM5.41 20L4 18.59l7.72-7.72 1.47 1.35L5.41 20z\"/>\n",
              "  </svg>\n",
              "      </button>\n",
              "      \n",
              "  <style>\n",
              "    .colab-df-container {\n",
              "      display:flex;\n",
              "      flex-wrap:wrap;\n",
              "      gap: 12px;\n",
              "    }\n",
              "\n",
              "    .colab-df-convert {\n",
              "      background-color: #E8F0FE;\n",
              "      border: none;\n",
              "      border-radius: 50%;\n",
              "      cursor: pointer;\n",
              "      display: none;\n",
              "      fill: #1967D2;\n",
              "      height: 32px;\n",
              "      padding: 0 0 0 0;\n",
              "      width: 32px;\n",
              "    }\n",
              "\n",
              "    .colab-df-convert:hover {\n",
              "      background-color: #E2EBFA;\n",
              "      box-shadow: 0px 1px 2px rgba(60, 64, 67, 0.3), 0px 1px 3px 1px rgba(60, 64, 67, 0.15);\n",
              "      fill: #174EA6;\n",
              "    }\n",
              "\n",
              "    [theme=dark] .colab-df-convert {\n",
              "      background-color: #3B4455;\n",
              "      fill: #D2E3FC;\n",
              "    }\n",
              "\n",
              "    [theme=dark] .colab-df-convert:hover {\n",
              "      background-color: #434B5C;\n",
              "      box-shadow: 0px 1px 3px 1px rgba(0, 0, 0, 0.15);\n",
              "      filter: drop-shadow(0px 1px 2px rgba(0, 0, 0, 0.3));\n",
              "      fill: #FFFFFF;\n",
              "    }\n",
              "  </style>\n",
              "\n",
              "      <script>\n",
              "        const buttonEl =\n",
              "          document.querySelector('#df-b28e4a0d-c545-40df-a35b-842537159b79 button.colab-df-convert');\n",
              "        buttonEl.style.display =\n",
              "          google.colab.kernel.accessAllowed ? 'block' : 'none';\n",
              "\n",
              "        async function convertToInteractive(key) {\n",
              "          const element = document.querySelector('#df-b28e4a0d-c545-40df-a35b-842537159b79');\n",
              "          const dataTable =\n",
              "            await google.colab.kernel.invokeFunction('convertToInteractive',\n",
              "                                                     [key], {});\n",
              "          if (!dataTable) return;\n",
              "\n",
              "          const docLinkHtml = 'Like what you see? Visit the ' +\n",
              "            '<a target=\"_blank\" href=https://colab.research.google.com/notebooks/data_table.ipynb>data table notebook</a>'\n",
              "            + ' to learn more about interactive tables.';\n",
              "          element.innerHTML = '';\n",
              "          dataTable['output_type'] = 'display_data';\n",
              "          await google.colab.output.renderOutput(dataTable, element);\n",
              "          const docLink = document.createElement('div');\n",
              "          docLink.innerHTML = docLinkHtml;\n",
              "          element.appendChild(docLink);\n",
              "        }\n",
              "      </script>\n",
              "    </div>\n",
              "  </div>\n",
              "  "
            ]
          },
          "metadata": {},
          "execution_count": 295
        }
      ]
    },
    {
      "cell_type": "code",
      "source": [
        "# Check the size of the data (number of rows and columns)\n",
        "df_rodent.shape"
      ],
      "metadata": {
        "colab": {
          "base_uri": "https://localhost:8080/"
        },
        "id": "9H1ba6DZK2SP",
        "outputId": "c145b2ef-ac2f-46b9-ef9e-fd423a54b289"
      },
      "execution_count": 296,
      "outputs": [
        {
          "output_type": "execute_result",
          "data": {
            "text/plain": [
              "(380902, 14)"
            ]
          },
          "metadata": {},
          "execution_count": 296
        }
      ]
    },
    {
      "cell_type": "code",
      "source": [
        "# Check the index\n",
        "df_rodent.index"
      ],
      "metadata": {
        "colab": {
          "base_uri": "https://localhost:8080/"
        },
        "id": "4SbMFDBaK2Uj",
        "outputId": "173d174e-482a-41e3-d9a6-48a50da65813"
      },
      "execution_count": 297,
      "outputs": [
        {
          "output_type": "execute_result",
          "data": {
            "text/plain": [
              "RangeIndex(start=0, stop=380902, step=1)"
            ]
          },
          "metadata": {},
          "execution_count": 297
        }
      ]
    },
    {
      "cell_type": "code",
      "source": [
        "# Display all column names\n",
        "df_rodent.columns"
      ],
      "metadata": {
        "colab": {
          "base_uri": "https://localhost:8080/"
        },
        "id": "18AE1_0yK2W4",
        "outputId": "e664ed11-d417-4b57-db4b-377a9eb9f81b"
      },
      "execution_count": 298,
      "outputs": [
        {
          "output_type": "execute_result",
          "data": {
            "text/plain": [
              "Index(['Unique Key', 'Created Date', 'Year', 'Agency', 'Complaint Type',\n",
              "       'Descriptor', 'Location Type', 'Incident Zip', 'Status', 'Borough',\n",
              "       'Open Data Channel Type', 'Latitude', 'Longitude', 'Location'],\n",
              "      dtype='object')"
            ]
          },
          "metadata": {},
          "execution_count": 298
        }
      ]
    },
    {
      "cell_type": "code",
      "source": [
        "# Check data type for each columns\n",
        "df_rodent.dtypes"
      ],
      "metadata": {
        "colab": {
          "base_uri": "https://localhost:8080/"
        },
        "id": "maJ6Qmq2K2ZK",
        "outputId": "d0fce4f2-ffdb-4628-c84f-32d68d1ed17b"
      },
      "execution_count": 299,
      "outputs": [
        {
          "output_type": "execute_result",
          "data": {
            "text/plain": [
              "Unique Key                  int64\n",
              "Created Date               object\n",
              "Year                        int64\n",
              "Agency                     object\n",
              "Complaint Type             object\n",
              "Descriptor                 object\n",
              "Location Type              object\n",
              "Incident Zip              float64\n",
              "Status                     object\n",
              "Borough                    object\n",
              "Open Data Channel Type     object\n",
              "Latitude                  float64\n",
              "Longitude                 float64\n",
              "Location                   object\n",
              "dtype: object"
            ]
          },
          "metadata": {},
          "execution_count": 299
        }
      ]
    },
    {
      "cell_type": "code",
      "source": [
        "# check missing values in columns via heatmap\n",
        "fig, ax = plt.subplots(figsize=(8,6))\n",
        "sns.heatmap(df_rodent.isnull(), cbar=False)"
      ],
      "metadata": {
        "colab": {
          "base_uri": "https://localhost:8080/",
          "height": 506
        },
        "id": "V8Cw4cpGK2dc",
        "outputId": "430c5982-640e-4886-8cb3-196c4685c4d4"
      },
      "execution_count": 300,
      "outputs": [
        {
          "output_type": "execute_result",
          "data": {
            "text/plain": [
              "<matplotlib.axes._subplots.AxesSubplot at 0x7fb8e47ba940>"
            ]
          },
          "metadata": {},
          "execution_count": 300
        },
        {
          "output_type": "display_data",
          "data": {
            "text/plain": [
              "<Figure size 576x432 with 1 Axes>"
            ],
            "image/png": "[encoded data removed]"
          },
          "metadata": {
            "needs_background": "light"
          }
        }
      ]
    },
    {
      "cell_type": "markdown",
      "source": [
        "### **Cleaning, Exploration and Visualisation**\n",
        "____"
      ],
      "metadata": {
        "id": "XAcFX1mgL2X-"
      }
    },
    {
      "cell_type": "code",
      "source": [
        "# Droping null values\n",
        "df_rodent_new = df_rodent.dropna()\n",
        "df_rodent_new.isnull().sum()"
      ],
      "metadata": {
        "colab": {
          "base_uri": "https://localhost:8080/"
        },
        "id": "6A13hy2mK2fx",
        "outputId": "8a903767-6752-4722-f68e-19d92259bfde"
      },
      "execution_count": 301,
      "outputs": [
        {
          "output_type": "execute_result",
          "data": {
            "text/plain": [
              "Unique Key                0\n",
              "Created Date              0\n",
              "Year                      0\n",
              "Agency                    0\n",
              "Complaint Type            0\n",
              "Descriptor                0\n",
              "Location Type             0\n",
              "Incident Zip              0\n",
              "Status                    0\n",
              "Borough                   0\n",
              "Open Data Channel Type    0\n",
              "Latitude                  0\n",
              "Longitude                 0\n",
              "Location                  0\n",
              "dtype: int64"
            ]
          },
          "metadata": {},
          "execution_count": 301
        }
      ]
    },
    {
      "cell_type": "code",
      "source": [
        "# Checking the size for the data after dropping null values\n",
        "df_rodent_new.shape"
      ],
      "metadata": {
        "colab": {
          "base_uri": "https://localhost:8080/"
        },
        "id": "d9uapqfoK2jL",
        "outputId": "ac6d0a60-ea9e-491d-9f63-1fc9a41cbd45"
      },
      "execution_count": 302,
      "outputs": [
        {
          "output_type": "execute_result",
          "data": {
            "text/plain": [
              "(378039, 14)"
            ]
          },
          "metadata": {},
          "execution_count": 302
        }
      ]
    },
    {
      "cell_type": "markdown",
      "source": [
        "### ***a. Total counts of rat sightings for each Year***\n",
        "\n"
      ],
      "metadata": {
        "id": "LE3ypOO6xF4F"
      }
    },
    {
      "cell_type": "code",
      "source": [
        "# Grouping by year to see the total number of rat sightings for each year\n",
        "df_rodent_year = df_rodent_new.groupby(['Year'])['Unique Key'].count()\n",
        "df_rodent_year"
      ],
      "metadata": {
        "colab": {
          "base_uri": "https://localhost:8080/"
        },
        "id": "TzoZR8eXMxnd",
        "outputId": "7067fd35-2344-4de5-95cb-78b43210e352"
      },
      "execution_count": 303,
      "outputs": [
        {
          "output_type": "execute_result",
          "data": {
            "text/plain": [
              "Year\n",
              "2010    22062\n",
              "2011    21413\n",
              "2012    21206\n",
              "2013    22245\n",
              "2014    24394\n",
              "2015    29205\n",
              "2016    31255\n",
              "2017    34864\n",
              "2018    32353\n",
              "2019    31089\n",
              "2020    27277\n",
              "2021    38408\n",
              "2022    40778\n",
              "2023     1490\n",
              "Name: Unique Key, dtype: int64"
            ]
          },
          "metadata": {},
          "execution_count": 303
        }
      ]
    },
    {
      "cell_type": "code",
      "source": [
        "# Dropping row\n",
        "df_Year = df_rodent_year.drop(df_rodent_year.index[[13]])\n",
        "df_Year "
      ],
      "metadata": {
        "colab": {
          "base_uri": "https://localhost:8080/"
        },
        "id": "nLXaORSTMxpy",
        "outputId": "36f05edf-0639-4a1b-fcfc-c74d7862a818"
      },
      "execution_count": 304,
      "outputs": [
        {
          "output_type": "execute_result",
          "data": {
            "text/plain": [
              "Year\n",
              "2010    22062\n",
              "2011    21413\n",
              "2012    21206\n",
              "2013    22245\n",
              "2014    24394\n",
              "2015    29205\n",
              "2016    31255\n",
              "2017    34864\n",
              "2018    32353\n",
              "2019    31089\n",
              "2020    27277\n",
              "2021    38408\n",
              "2022    40778\n",
              "Name: Unique Key, dtype: int64"
            ]
          },
          "metadata": {},
          "execution_count": 304
        }
      ]
    },
    {
      "cell_type": "code",
      "source": [
        "# Figure1 : Bar graph representing Total number of rat sighting for each Year\n",
        "df_Year.plot(kind='bar', figsize=(10,8), color='#444444') \n",
        "plt.style.use('fivethirtyeight')\n",
        "plt.title('Number of Rat sightings by Year')\n",
        "plt.show()"
      ],
      "metadata": {
        "colab": {
          "base_uri": "https://localhost:8080/",
          "height": 533
        },
        "id": "No4FQEmJMxsK",
        "outputId": "cfb44848-2b53-4ca6-d7cf-5d5fce9bca7d"
      },
      "execution_count": 305,
      "outputs": [
        {
          "output_type": "display_data",
          "data": {
            "text/plain": [
              "<Figure size 720x576 with 1 Axes>"
            ],
            "image/png": "[encoded data removed]"
          },
          "metadata": {
            "needs_background": "light"
          }
        }
      ]
    },
    {
      "cell_type": "markdown",
      "source": [
        "### ***`Interpretation : Overall trend indicates a fluctuating pattern with increases over some period and decreases in others. However, the standout observation is there is a sharp increase from the year 2020 to 2021`*** \n",
        "____"
      ],
      "metadata": {
        "id": "C4dA2tvV09Ob"
      }
    },
    {
      "cell_type": "markdown",
      "source": [
        "### ***b. The Percentage difference in counts for each Year***"
      ],
      "metadata": {
        "id": "ZnWeEvt024JD"
      }
    },
    {
      "cell_type": "code",
      "source": [
        "# Calculating the percent change for each year\n",
        "df_Year_pct = df_Year.pct_change(fill_method='ffill')\n",
        "df_Year_pct"
      ],
      "metadata": {
        "colab": {
          "base_uri": "https://localhost:8080/"
        },
        "id": "Pzf2dB1mMxuc",
        "outputId": "d78858c3-3cd3-482c-b2cc-2f0a00a1a639"
      },
      "execution_count": 306,
      "outputs": [
        {
          "output_type": "execute_result",
          "data": {
            "text/plain": [
              "Year\n",
              "2010         NaN\n",
              "2011   -0.029417\n",
              "2012   -0.009667\n",
              "2013    0.048996\n",
              "2014    0.096606\n",
              "2015    0.197221\n",
              "2016    0.070193\n",
              "2017    0.115470\n",
              "2018   -0.072023\n",
              "2019   -0.039069\n",
              "2020   -0.122616\n",
              "2021    0.408073\n",
              "2022    0.061706\n",
              "Name: Unique Key, dtype: float64"
            ]
          },
          "metadata": {},
          "execution_count": 306
        }
      ]
    },
    {
      "cell_type": "code",
      "source": [
        "# Figure 2 : representing percent change as bar graph\n",
        "ax = df_Year_pct.plot(kind='bar', figsize=(10,8), color='#000044')\n",
        "plt.style.use(\"fivethirtyeight\")\n",
        "ax.set_xlabel('Year')\n",
        "ax.set_ylabel('Percentage (%)')\n",
        "plt.title('Percentage change in number of Rat sightings by Year')\n",
        "\n",
        "plt.show()"
      ],
      "metadata": {
        "colab": {
          "base_uri": "https://localhost:8080/",
          "height": 579
        },
        "id": "dZbykWvZMxwv",
        "outputId": "2e0ea9db-be65-4a7a-f72b-fc876c024dc5"
      },
      "execution_count": 307,
      "outputs": [
        {
          "output_type": "display_data",
          "data": {
            "text/plain": [
              "<Figure size 720x576 with 1 Axes>"
            ],
            "image/png": "[encoded data removed]"
          },
          "metadata": {}
        }
      ]
    },
    {
      "cell_type": "markdown",
      "source": [
        "### ***`Interpretation: The above observation of the sharp increase is further supported by Year-on-year percantage increase, which shows the change from 2020 to 2021 to the highest at over 40%`***\n",
        "___"
      ],
      "metadata": {
        "id": "C5zReNXM3zNw"
      }
    },
    {
      "cell_type": "markdown",
      "source": [
        "###   ***c. Borough wise counts of rat sightings for year 2020 and 2021***"
      ],
      "metadata": {
        "id": "XSYVKM-26ZNv"
      }
    },
    {
      "cell_type": "code",
      "source": [
        "# Total number of rat sighting in each Borough\n",
        "df_rodent_borough = df_rodent_new.groupby(['Borough'])['Unique Key'].count()\n",
        "df_rodent_borough "
      ],
      "metadata": {
        "colab": {
          "base_uri": "https://localhost:8080/"
        },
        "id": "3S262iUYMxyl",
        "outputId": "16628ad9-5a33-49fa-d4ec-c9240f6322e1"
      },
      "execution_count": 308,
      "outputs": [
        {
          "output_type": "execute_result",
          "data": {
            "text/plain": [
              "Borough\n",
              "BRONX             74043\n",
              "BROOKLYN         130200\n",
              "MANHATTAN         90017\n",
              "QUEENS            64999\n",
              "STATEN ISLAND     18774\n",
              "Unspecified           6\n",
              "Name: Unique Key, dtype: int64"
            ]
          },
          "metadata": {},
          "execution_count": 308
        }
      ]
    },
    {
      "cell_type": "code",
      "source": [
        "# Dropping columns\n",
        "df_borough = df_rodent_new .drop(['Unique Key','Created Date', 'Agency','Complaint Type', 'Location Type','Incident Zip','Latitude',\n",
        "                                  'Longitude','Status','Open Data Channel Type','Location'], axis = 1)\n",
        "\n",
        "#selecting years 2020 and 2021 for analysis\n",
        "df_borough_year = df_borough[(df_borough['Year'] >= 2020) & (df_borough['Year'] <= 2021)] "
      ],
      "metadata": {
        "id": "J8KPC69Io79Q"
      },
      "execution_count": 309,
      "outputs": []
    },
    {
      "cell_type": "code",
      "source": [
        "# Grouping by year and Borough\n",
        "df_borough_gp =df_borough_year.groupby(['Year','Borough']).count()\n",
        "df_borough_new = df_borough_gp.add_suffix('.').reset_index()\n",
        "df_borough_new "
      ],
      "metadata": {
        "colab": {
          "base_uri": "https://localhost:8080/",
          "height": 394
        },
        "id": "4mv8VKRkdhtp",
        "outputId": "46642d40-c0f1-4f1b-dd3f-1b1fc8c2117a"
      },
      "execution_count": 310,
      "outputs": [
        {
          "output_type": "execute_result",
          "data": {
            "text/plain": [
              "    Year        Borough  Descriptor.\n",
              "0   2020          BRONX         5102\n",
              "1   2020       BROOKLYN         9511\n",
              "2   2020      MANHATTAN         6428\n",
              "3   2020         QUEENS         4982\n",
              "4   2020  STATEN ISLAND         1254\n",
              "5   2021          BRONX         7025\n",
              "6   2021       BROOKLYN        14368\n",
              "7   2021      MANHATTAN         9938\n",
              "8   2021         QUEENS         5731\n",
              "9   2021  STATEN ISLAND         1345\n",
              "10  2021    Unspecified            1"
            ],
            "text/html": [
              "\n",
              "  <div id=\"df-32d009df-aa5b-492b-9f1a-d524aca130bc\">\n",
              "    <div class=\"colab-df-container\">\n",
              "      <div>\n",
              "<style scoped>\n",
              "    .dataframe tbody tr th:only-of-type {\n",
              "        vertical-align: middle;\n",
              "    }\n",
              "\n",
              "    .dataframe tbody tr th {\n",
              "        vertical-align: top;\n",
              "    }\n",
              "\n",
              "    .dataframe thead th {\n",
              "        text-align: right;\n",
              "    }\n",
              "</style>\n",
              "<table border=\"1\" class=\"dataframe\">\n",
              "  <thead>\n",
              "    <tr style=\"text-align: right;\">\n",
              "      <th></th>\n",
              "      <th>Year</th>\n",
              "      <th>Borough</th>\n",
              "      <th>Descriptor.</th>\n",
              "    </tr>\n",
              "  </thead>\n",
              "  <tbody>\n",
              "    <tr>\n",
              "      <th>0</th>\n",
              "      <td>2020</td>\n",
              "      <td>BRONX</td>\n",
              "      <td>5102</td>\n",
              "    </tr>\n",
              "    <tr>\n",
              "      <th>1</th>\n",
              "      <td>2020</td>\n",
              "      <td>BROOKLYN</td>\n",
              "      <td>9511</td>\n",
              "    </tr>\n",
              "    <tr>\n",
              "      <th>2</th>\n",
              "      <td>2020</td>\n",
              "      <td>MANHATTAN</td>\n",
              "      <td>6428</td>\n",
              "    </tr>\n",
              "    <tr>\n",
              "      <th>3</th>\n",
              "      <td>2020</td>\n",
              "      <td>QUEENS</td>\n",
              "      <td>4982</td>\n",
              "    </tr>\n",
              "    <tr>\n",
              "      <th>4</th>\n",
              "      <td>2020</td>\n",
              "      <td>STATEN ISLAND</td>\n",
              "      <td>1254</td>\n",
              "    </tr>\n",
              "    <tr>\n",
              "      <th>5</th>\n",
              "      <td>2021</td>\n",
              "      <td>BRONX</td>\n",
              "      <td>7025</td>\n",
              "    </tr>\n",
              "    <tr>\n",
              "      <th>6</th>\n",
              "      <td>2021</td>\n",
              "      <td>BROOKLYN</td>\n",
              "      <td>14368</td>\n",
              "    </tr>\n",
              "    <tr>\n",
              "      <th>7</th>\n",
              "      <td>2021</td>\n",
              "      <td>MANHATTAN</td>\n",
              "      <td>9938</td>\n",
              "    </tr>\n",
              "    <tr>\n",
              "      <th>8</th>\n",
              "      <td>2021</td>\n",
              "      <td>QUEENS</td>\n",
              "      <td>5731</td>\n",
              "    </tr>\n",
              "    <tr>\n",
              "      <th>9</th>\n",
              "      <td>2021</td>\n",
              "      <td>STATEN ISLAND</td>\n",
              "      <td>1345</td>\n",
              "    </tr>\n",
              "    <tr>\n",
              "      <th>10</th>\n",
              "      <td>2021</td>\n",
              "      <td>Unspecified</td>\n",
              "      <td>1</td>\n",
              "    </tr>\n",
              "  </tbody>\n",
              "</table>\n",
              "</div>\n",
              "      <button class=\"colab-df-convert\" onclick=\"convertToInteractive('df-32d009df-aa5b-492b-9f1a-d524aca130bc')\"\n",
              "              title=\"Convert this dataframe to an interactive table.\"\n",
              "              style=\"display:none;\">\n",
              "        \n",
              "  <svg xmlns=\"http://www.w3.org/2000/svg\" height=\"24px\"viewBox=\"0 0 24 24\"\n",
              "       width=\"24px\">\n",
              "    <path d=\"M0 0h24v24H0V0z\" fill=\"none\"/>\n",
              "    <path d=\"M18.56 5.44l.94 2.06.94-2.06 2.06-.94-2.06-.94-.94-2.06-.94 2.06-2.06.94zm-11 1L8.5 8.5l.94-2.06 2.06-.94-2.06-.94L8.5 2.5l-.94 2.06-2.06.94zm10 10l.94 2.06.94-2.06 2.06-.94-2.06-.94-.94-2.06-.94 2.06-2.06.94z\"/><path d=\"M17.41 7.96l-1.37-1.37c-.4-.4-.92-.59-1.43-.59-.52 0-1.04.2-1.43.59L10.3 9.45l-7.72 7.72c-.78.78-.78 2.05 0 2.83L4 21.41c.39.39.9.59 1.41.59.51 0 1.02-.2 1.41-.59l7.78-7.78 2.81-2.81c.8-.78.8-2.07 0-2.86zM5.41 20L4 18.59l7.72-7.72 1.47 1.35L5.41 20z\"/>\n",
              "  </svg>\n",
              "      </button>\n",
              "      \n",
              "  <style>\n",
              "    .colab-df-container {\n",
              "      display:flex;\n",
              "      flex-wrap:wrap;\n",
              "      gap: 12px;\n",
              "    }\n",
              "\n",
              "    .colab-df-convert {\n",
              "      background-color: #E8F0FE;\n",
              "      border: none;\n",
              "      border-radius: 50%;\n",
              "      cursor: pointer;\n",
              "      display: none;\n",
              "      fill: #1967D2;\n",
              "      height: 32px;\n",
              "      padding: 0 0 0 0;\n",
              "      width: 32px;\n",
              "    }\n",
              "\n",
              "    .colab-df-convert:hover {\n",
              "      background-color: #E2EBFA;\n",
              "      box-shadow: 0px 1px 2px rgba(60, 64, 67, 0.3), 0px 1px 3px 1px rgba(60, 64, 67, 0.15);\n",
              "      fill: #174EA6;\n",
              "    }\n",
              "\n",
              "    [theme=dark] .colab-df-convert {\n",
              "      background-color: #3B4455;\n",
              "      fill: #D2E3FC;\n",
              "    }\n",
              "\n",
              "    [theme=dark] .colab-df-convert:hover {\n",
              "      background-color: #434B5C;\n",
              "      box-shadow: 0px 1px 3px 1px rgba(0, 0, 0, 0.15);\n",
              "      filter: drop-shadow(0px 1px 2px rgba(0, 0, 0, 0.3));\n",
              "      fill: #FFFFFF;\n",
              "    }\n",
              "  </style>\n",
              "\n",
              "      <script>\n",
              "        const buttonEl =\n",
              "          document.querySelector('#df-32d009df-aa5b-492b-9f1a-d524aca130bc button.colab-df-convert');\n",
              "        buttonEl.style.display =\n",
              "          google.colab.kernel.accessAllowed ? 'block' : 'none';\n",
              "\n",
              "        async function convertToInteractive(key) {\n",
              "          const element = document.querySelector('#df-32d009df-aa5b-492b-9f1a-d524aca130bc');\n",
              "          const dataTable =\n",
              "            await google.colab.kernel.invokeFunction('convertToInteractive',\n",
              "                                                     [key], {});\n",
              "          if (!dataTable) return;\n",
              "\n",
              "          const docLinkHtml = 'Like what you see? Visit the ' +\n",
              "            '<a target=\"_blank\" href=https://colab.research.google.com/notebooks/data_table.ipynb>data table notebook</a>'\n",
              "            + ' to learn more about interactive tables.';\n",
              "          element.innerHTML = '';\n",
              "          dataTable['output_type'] = 'display_data';\n",
              "          await google.colab.output.renderOutput(dataTable, element);\n",
              "          const docLink = document.createElement('div');\n",
              "          docLink.innerHTML = docLinkHtml;\n",
              "          element.appendChild(docLink);\n",
              "        }\n",
              "      </script>\n",
              "    </div>\n",
              "  </div>\n",
              "  "
            ]
          },
          "metadata": {},
          "execution_count": 310
        }
      ]
    },
    {
      "cell_type": "code",
      "source": [
        "# Dropping row - unspecified\n",
        "df_Borough = df_borough_new.drop(df_borough_new.index[[10]])\n",
        "df_Borough"
      ],
      "metadata": {
        "colab": {
          "base_uri": "https://localhost:8080/",
          "height": 363
        },
        "id": "Gog2ld1urUto",
        "outputId": "98049bac-f370-4ca8-887f-d6062a62ce85"
      },
      "execution_count": 311,
      "outputs": [
        {
          "output_type": "execute_result",
          "data": {
            "text/plain": [
              "   Year        Borough  Descriptor.\n",
              "0  2020          BRONX         5102\n",
              "1  2020       BROOKLYN         9511\n",
              "2  2020      MANHATTAN         6428\n",
              "3  2020         QUEENS         4982\n",
              "4  2020  STATEN ISLAND         1254\n",
              "5  2021          BRONX         7025\n",
              "6  2021       BROOKLYN        14368\n",
              "7  2021      MANHATTAN         9938\n",
              "8  2021         QUEENS         5731\n",
              "9  2021  STATEN ISLAND         1345"
            ],
            "text/html": [
              "\n",
              "  <div id=\"df-87f39a5b-67af-4064-b574-e7fc2bf93cdf\">\n",
              "    <div class=\"colab-df-container\">\n",
              "      <div>\n",
              "<style scoped>\n",
              "    .dataframe tbody tr th:only-of-type {\n",
              "        vertical-align: middle;\n",
              "    }\n",
              "\n",
              "    .dataframe tbody tr th {\n",
              "        vertical-align: top;\n",
              "    }\n",
              "\n",
              "    .dataframe thead th {\n",
              "        text-align: right;\n",
              "    }\n",
              "</style>\n",
              "<table border=\"1\" class=\"dataframe\">\n",
              "  <thead>\n",
              "    <tr style=\"text-align: right;\">\n",
              "      <th></th>\n",
              "      <th>Year</th>\n",
              "      <th>Borough</th>\n",
              "      <th>Descriptor.</th>\n",
              "    </tr>\n",
              "  </thead>\n",
              "  <tbody>\n",
              "    <tr>\n",
              "      <th>0</th>\n",
              "      <td>2020</td>\n",
              "      <td>BRONX</td>\n",
              "      <td>5102</td>\n",
              "    </tr>\n",
              "    <tr>\n",
              "      <th>1</th>\n",
              "      <td>2020</td>\n",
              "      <td>BROOKLYN</td>\n",
              "      <td>9511</td>\n",
              "    </tr>\n",
              "    <tr>\n",
              "      <th>2</th>\n",
              "      <td>2020</td>\n",
              "      <td>MANHATTAN</td>\n",
              "      <td>6428</td>\n",
              "    </tr>\n",
              "    <tr>\n",
              "      <th>3</th>\n",
              "      <td>2020</td>\n",
              "      <td>QUEENS</td>\n",
              "      <td>4982</td>\n",
              "    </tr>\n",
              "    <tr>\n",
              "      <th>4</th>\n",
              "      <td>2020</td>\n",
              "      <td>STATEN ISLAND</td>\n",
              "      <td>1254</td>\n",
              "    </tr>\n",
              "    <tr>\n",
              "      <th>5</th>\n",
              "      <td>2021</td>\n",
              "      <td>BRONX</td>\n",
              "      <td>7025</td>\n",
              "    </tr>\n",
              "    <tr>\n",
              "      <th>6</th>\n",
              "      <td>2021</td>\n",
              "      <td>BROOKLYN</td>\n",
              "      <td>14368</td>\n",
              "    </tr>\n",
              "    <tr>\n",
              "      <th>7</th>\n",
              "      <td>2021</td>\n",
              "      <td>MANHATTAN</td>\n",
              "      <td>9938</td>\n",
              "    </tr>\n",
              "    <tr>\n",
              "      <th>8</th>\n",
              "      <td>2021</td>\n",
              "      <td>QUEENS</td>\n",
              "      <td>5731</td>\n",
              "    </tr>\n",
              "    <tr>\n",
              "      <th>9</th>\n",
              "      <td>2021</td>\n",
              "      <td>STATEN ISLAND</td>\n",
              "      <td>1345</td>\n",
              "    </tr>\n",
              "  </tbody>\n",
              "</table>\n",
              "</div>\n",
              "      <button class=\"colab-df-convert\" onclick=\"convertToInteractive('df-87f39a5b-67af-4064-b574-e7fc2bf93cdf')\"\n",
              "              title=\"Convert this dataframe to an interactive table.\"\n",
              "              style=\"display:none;\">\n",
              "        \n",
              "  <svg xmlns=\"http://www.w3.org/2000/svg\" height=\"24px\"viewBox=\"0 0 24 24\"\n",
              "       width=\"24px\">\n",
              "    <path d=\"M0 0h24v24H0V0z\" fill=\"none\"/>\n",
              "    <path d=\"M18.56 5.44l.94 2.06.94-2.06 2.06-.94-2.06-.94-.94-2.06-.94 2.06-2.06.94zm-11 1L8.5 8.5l.94-2.06 2.06-.94-2.06-.94L8.5 2.5l-.94 2.06-2.06.94zm10 10l.94 2.06.94-2.06 2.06-.94-2.06-.94-.94-2.06-.94 2.06-2.06.94z\"/><path d=\"M17.41 7.96l-1.37-1.37c-.4-.4-.92-.59-1.43-.59-.52 0-1.04.2-1.43.59L10.3 9.45l-7.72 7.72c-.78.78-.78 2.05 0 2.83L4 21.41c.39.39.9.59 1.41.59.51 0 1.02-.2 1.41-.59l7.78-7.78 2.81-2.81c.8-.78.8-2.07 0-2.86zM5.41 20L4 18.59l7.72-7.72 1.47 1.35L5.41 20z\"/>\n",
              "  </svg>\n",
              "      </button>\n",
              "      \n",
              "  <style>\n",
              "    .colab-df-container {\n",
              "      display:flex;\n",
              "      flex-wrap:wrap;\n",
              "      gap: 12px;\n",
              "    }\n",
              "\n",
              "    .colab-df-convert {\n",
              "      background-color: #E8F0FE;\n",
              "      border: none;\n",
              "      border-radius: 50%;\n",
              "      cursor: pointer;\n",
              "      display: none;\n",
              "      fill: #1967D2;\n",
              "      height: 32px;\n",
              "      padding: 0 0 0 0;\n",
              "      width: 32px;\n",
              "    }\n",
              "\n",
              "    .colab-df-convert:hover {\n",
              "      background-color: #E2EBFA;\n",
              "      box-shadow: 0px 1px 2px rgba(60, 64, 67, 0.3), 0px 1px 3px 1px rgba(60, 64, 67, 0.15);\n",
              "      fill: #174EA6;\n",
              "    }\n",
              "\n",
              "    [theme=dark] .colab-df-convert {\n",
              "      background-color: #3B4455;\n",
              "      fill: #D2E3FC;\n",
              "    }\n",
              "\n",
              "    [theme=dark] .colab-df-convert:hover {\n",
              "      background-color: #434B5C;\n",
              "      box-shadow: 0px 1px 3px 1px rgba(0, 0, 0, 0.15);\n",
              "      filter: drop-shadow(0px 1px 2px rgba(0, 0, 0, 0.3));\n",
              "      fill: #FFFFFF;\n",
              "    }\n",
              "  </style>\n",
              "\n",
              "      <script>\n",
              "        const buttonEl =\n",
              "          document.querySelector('#df-87f39a5b-67af-4064-b574-e7fc2bf93cdf button.colab-df-convert');\n",
              "        buttonEl.style.display =\n",
              "          google.colab.kernel.accessAllowed ? 'block' : 'none';\n",
              "\n",
              "        async function convertToInteractive(key) {\n",
              "          const element = document.querySelector('#df-87f39a5b-67af-4064-b574-e7fc2bf93cdf');\n",
              "          const dataTable =\n",
              "            await google.colab.kernel.invokeFunction('convertToInteractive',\n",
              "                                                     [key], {});\n",
              "          if (!dataTable) return;\n",
              "\n",
              "          const docLinkHtml = 'Like what you see? Visit the ' +\n",
              "            '<a target=\"_blank\" href=https://colab.research.google.com/notebooks/data_table.ipynb>data table notebook</a>'\n",
              "            + ' to learn more about interactive tables.';\n",
              "          element.innerHTML = '';\n",
              "          dataTable['output_type'] = 'display_data';\n",
              "          await google.colab.output.renderOutput(dataTable, element);\n",
              "          const docLink = document.createElement('div');\n",
              "          docLink.innerHTML = docLinkHtml;\n",
              "          element.appendChild(docLink);\n",
              "        }\n",
              "      </script>\n",
              "    </div>\n",
              "  </div>\n",
              "  "
            ]
          },
          "metadata": {},
          "execution_count": 311
        }
      ]
    },
    {
      "cell_type": "code",
      "source": [
        "# Figure 3 : Histogram representing total rat sightings in each Borough for year 2020 and 2021\n",
        "fig = px.histogram(df_Borough, x=\"Year\", y=\"Descriptor.\", title = 'Number of Rat Sightings by Borough', color='Borough', barmode='group', width = 900 , height=600)\n",
        "fig.show()"
      ],
      "metadata": {
        "colab": {
          "base_uri": "https://localhost:8080/",
          "height": 617
        },
        "id": "rT30iTB0hEGB",
        "outputId": "3978d201-19c0-4f28-a75d-c204b9353388"
      },
      "execution_count": 312,
      "outputs": [
        {
          "output_type": "display_data",
          "data": {
            "text/html": [
              "<html>\n",
              "<head><meta charset=\"utf-8\" /></head>\n",
              "<body>\n",
              "    <div>            <script src=\"https://cdnjs.cloudflare.com/ajax/libs/mathjax/2.7.5/MathJax.js?config=TeX-AMS-MML_SVG\"></script><script type=\"text/javascript\">if (window.MathJax) {MathJax.Hub.Config({SVG: {font: \"STIX-Web\"}});}</script>                <script type=\"text/javascript\">window.PlotlyConfig = {MathJaxConfig: 'local'};</script>\n",
              "        <script src=\"https://cdn.plot.ly/plotly-2.8.3.min.js\"></script>                <div id=\"71ccab08-dc01-4bfe-b4a6-2549eb03df84\" class=\"plotly-graph-div\" style=\"height:600px; width:900px;\"></div>            <script type=\"text/javascript\">                                    window.PLOTLYENV=window.PLOTLYENV || {};                                    if (document.getElementById(\"71ccab08-dc01-4bfe-b4a6-2549eb03df84\")) {                    Plotly.newPlot(                        \"71ccab08-dc01-4bfe-b4a6-2549eb03df84\",                        [{\"alignmentgroup\":\"True\",\"bingroup\":\"x\",\"histfunc\":\"sum\",\"hovertemplate\":\"Borough=BRONX<br>Year=%{x}<br>sum of Descriptor.=%{y}<extra></extra>\",\"legendgroup\":\"BRONX\",\"marker\":{\"color\":\"#636efa\",\"pattern\":{\"shape\":\"\"}},\"name\":\"BRONX\",\"offsetgroup\":\"BRONX\",\"orientation\":\"v\",\"showlegend\":true,\"x\":[2020,2021],\"xaxis\":\"x\",\"y\":[5102,7025],\"yaxis\":\"y\",\"type\":\"histogram\"},{\"alignmentgroup\":\"True\",\"bingroup\":\"x\",\"histfunc\":\"sum\",\"hovertemplate\":\"Borough=BROOKLYN<br>Year=%{x}<br>sum of Descriptor.=%{y}<extra></extra>\",\"legendgroup\":\"BROOKLYN\",\"marker\":{\"color\":\"#EF553B\",\"pattern\":{\"shape\":\"\"}},\"name\":\"BROOKLYN\",\"offsetgroup\":\"BROOKLYN\",\"orientation\":\"v\",\"showlegend\":true,\"x\":[2020,2021],\"xaxis\":\"x\",\"y\":[9511,14368],\"yaxis\":\"y\",\"type\":\"histogram\"},{\"alignmentgroup\":\"True\",\"bingroup\":\"x\",\"histfunc\":\"sum\",\"hovertemplate\":\"Borough=MANHATTAN<br>Year=%{x}<br>sum of Descriptor.=%{y}<extra></extra>\",\"legendgroup\":\"MANHATTAN\",\"marker\":{\"color\":\"#00cc96\",\"pattern\":{\"shape\":\"\"}},\"name\":\"MANHATTAN\",\"offsetgroup\":\"MANHATTAN\",\"orientation\":\"v\",\"showlegend\":true,\"x\":[2020,2021],\"xaxis\":\"x\",\"y\":[6428,9938],\"yaxis\":\"y\",\"type\":\"histogram\"},{\"alignmentgroup\":\"True\",\"bingroup\":\"x\",\"histfunc\":\"sum\",\"hovertemplate\":\"Borough=QUEENS<br>Year=%{x}<br>sum of Descriptor.=%{y}<extra></extra>\",\"legendgroup\":\"QUEENS\",\"marker\":{\"color\":\"#ab63fa\",\"pattern\":{\"shape\":\"\"}},\"name\":\"QUEENS\",\"offsetgroup\":\"QUEENS\",\"orientation\":\"v\",\"showlegend\":true,\"x\":[2020,2021],\"xaxis\":\"x\",\"y\":[4982,5731],\"yaxis\":\"y\",\"type\":\"histogram\"},{\"alignmentgroup\":\"True\",\"bingroup\":\"x\",\"histfunc\":\"sum\",\"hovertemplate\":\"Borough=STATEN ISLAND<br>Year=%{x}<br>sum of Descriptor.=%{y}<extra></extra>\",\"legendgroup\":\"STATEN ISLAND\",\"marker\":{\"color\":\"#FFA15A\",\"pattern\":{\"shape\":\"\"}},\"name\":\"STATEN ISLAND\",\"offsetgroup\":\"STATEN ISLAND\",\"orientation\":\"v\",\"showlegend\":true,\"x\":[2020,2021],\"xaxis\":\"x\",\"y\":[1254,1345],\"yaxis\":\"y\",\"type\":\"histogram\"}],                        {\"template\":{\"data\":{\"bar\":[{\"error_x\":{\"color\":\"#2a3f5f\"},\"error_y\":{\"color\":\"#2a3f5f\"},\"marker\":{\"line\":{\"color\":\"#E5ECF6\",\"width\":0.5},\"pattern\":{\"fillmode\":\"overlay\",\"size\":10,\"solidity\":0.2}},\"type\":\"bar\"}],\"barpolar\":[{\"marker\":{\"line\":{\"color\":\"#E5ECF6\",\"width\":0.5},\"pattern\":{\"fillmode\":\"overlay\",\"size\":10,\"solidity\":0.2}},\"type\":\"barpolar\"}],\"carpet\":[{\"aaxis\":{\"endlinecolor\":\"#2a3f5f\",\"gridcolor\":\"white\",\"linecolor\":\"white\",\"minorgridcolor\":\"white\",\"startlinecolor\":\"#2a3f5f\"},\"baxis\":{\"endlinecolor\":\"#2a3f5f\",\"gridcolor\":\"white\",\"linecolor\":\"white\",\"minorgridcolor\":\"white\",\"startlinecolor\":\"#2a3f5f\"},\"type\":\"carpet\"}],\"choropleth\":[{\"colorbar\":{\"outlinewidth\":0,\"ticks\":\"\"},\"type\":\"choropleth\"}],\"contour\":[{\"colorbar\":{\"outlinewidth\":0,\"ticks\":\"\"},\"colorscale\":[[0.0,\"#0d0887\"],[0.1111111111111111,\"#46039f\"],[0.2222222222222222,\"#7201a8\"],[0.3333333333333333,\"#9c179e\"],[0.4444444444444444,\"#bd3786\"],[0.5555555555555556,\"#d8576b\"],[0.6666666666666666,\"#ed7953\"],[0.7777777777777778,\"#fb9f3a\"],[0.8888888888888888,\"#fdca26\"],[1.0,\"#f0f921\"]],\"type\":\"contour\"}],\"contourcarpet\":[{\"colorbar\":{\"outlinewidth\":0,\"ticks\":\"\"},\"type\":\"contourcarpet\"}],\"heatmap\":[{\"colorbar\":{\"outlinewidth\":0,\"ticks\":\"\"},\"colorscale\":[[0.0,\"#0d0887\"],[0.1111111111111111,\"#46039f\"],[0.2222222222222222,\"#7201a8\"],[0.3333333333333333,\"#9c179e\"],[0.4444444444444444,\"#bd3786\"],[0.5555555555555556,\"#d8576b\"],[0.6666666666666666,\"#ed7953\"],[0.7777777777777778,\"#fb9f3a\"],[0.8888888888888888,\"#fdca26\"],[1.0,\"#f0f921\"]],\"type\":\"heatmap\"}],\"heatmapgl\":[{\"colorbar\":{\"outlinewidth\":0,\"ticks\":\"\"},\"colorscale\":[[0.0,\"#0d0887\"],[0.1111111111111111,\"#46039f\"],[0.2222222222222222,\"#7201a8\"],[0.3333333333333333,\"#9c179e\"],[0.4444444444444444,\"#bd3786\"],[0.5555555555555556,\"#d8576b\"],[0.6666666666666666,\"#ed7953\"],[0.7777777777777778,\"#fb9f3a\"],[0.8888888888888888,\"#fdca26\"],[1.0,\"#f0f921\"]],\"type\":\"heatmapgl\"}],\"histogram\":[{\"marker\":{\"pattern\":{\"fillmode\":\"overlay\",\"size\":10,\"solidity\":0.2}},\"type\":\"histogram\"}],\"histogram2d\":[{\"colorbar\":{\"outlinewidth\":0,\"ticks\":\"\"},\"colorscale\":[[0.0,\"#0d0887\"],[0.1111111111111111,\"#46039f\"],[0.2222222222222222,\"#7201a8\"],[0.3333333333333333,\"#9c179e\"],[0.4444444444444444,\"#bd3786\"],[0.5555555555555556,\"#d8576b\"],[0.6666666666666666,\"#ed7953\"],[0.7777777777777778,\"#fb9f3a\"],[0.8888888888888888,\"#fdca26\"],[1.0,\"#f0f921\"]],\"type\":\"histogram2d\"}],\"histogram2dcontour\":[{\"colorbar\":{\"outlinewidth\":0,\"ticks\":\"\"},\"colorscale\":[[0.0,\"#0d0887\"],[0.1111111111111111,\"#46039f\"],[0.2222222222222222,\"#7201a8\"],[0.3333333333333333,\"#9c179e\"],[0.4444444444444444,\"#bd3786\"],[0.5555555555555556,\"#d8576b\"],[0.6666666666666666,\"#ed7953\"],[0.7777777777777778,\"#fb9f3a\"],[0.8888888888888888,\"#fdca26\"],[1.0,\"#f0f921\"]],\"type\":\"histogram2dcontour\"}],\"mesh3d\":[{\"colorbar\":{\"outlinewidth\":0,\"ticks\":\"\"},\"type\":\"mesh3d\"}],\"parcoords\":[{\"line\":{\"colorbar\":{\"outlinewidth\":0,\"ticks\":\"\"}},\"type\":\"parcoords\"}],\"pie\":[{\"automargin\":true,\"type\":\"pie\"}],\"scatter\":[{\"marker\":{\"colorbar\":{\"outlinewidth\":0,\"ticks\":\"\"}},\"type\":\"scatter\"}],\"scatter3d\":[{\"line\":{\"colorbar\":{\"outlinewidth\":0,\"ticks\":\"\"}},\"marker\":{\"colorbar\":{\"outlinewidth\":0,\"ticks\":\"\"}},\"type\":\"scatter3d\"}],\"scattercarpet\":[{\"marker\":{\"colorbar\":{\"outlinewidth\":0,\"ticks\":\"\"}},\"type\":\"scattercarpet\"}],\"scattergeo\":[{\"marker\":{\"colorbar\":{\"outlinewidth\":0,\"ticks\":\"\"}},\"type\":\"scattergeo\"}],\"scattergl\":[{\"marker\":{\"colorbar\":{\"outlinewidth\":0,\"ticks\":\"\"}},\"type\":\"scattergl\"}],\"scattermapbox\":[{\"marker\":{\"colorbar\":{\"outlinewidth\":0,\"ticks\":\"\"}},\"type\":\"scattermapbox\"}],\"scatterpolar\":[{\"marker\":{\"colorbar\":{\"outlinewidth\":0,\"ticks\":\"\"}},\"type\":\"scatterpolar\"}],\"scatterpolargl\":[{\"marker\":{\"colorbar\":{\"outlinewidth\":0,\"ticks\":\"\"}},\"type\":\"scatterpolargl\"}],\"scatterternary\":[{\"marker\":{\"colorbar\":{\"outlinewidth\":0,\"ticks\":\"\"}},\"type\":\"scatterternary\"}],\"surface\":[{\"colorbar\":{\"outlinewidth\":0,\"ticks\":\"\"},\"colorscale\":[[0.0,\"#0d0887\"],[0.1111111111111111,\"#46039f\"],[0.2222222222222222,\"#7201a8\"],[0.3333333333333333,\"#9c179e\"],[0.4444444444444444,\"#bd3786\"],[0.5555555555555556,\"#d8576b\"],[0.6666666666666666,\"#ed7953\"],[0.7777777777777778,\"#fb9f3a\"],[0.8888888888888888,\"#fdca26\"],[1.0,\"#f0f921\"]],\"type\":\"surface\"}],\"table\":[{\"cells\":{\"fill\":{\"color\":\"#EBF0F8\"},\"line\":{\"color\":\"white\"}},\"header\":{\"fill\":{\"color\":\"#C8D4E3\"},\"line\":{\"color\":\"white\"}},\"type\":\"table\"}]},\"layout\":{\"annotationdefaults\":{\"arrowcolor\":\"#2a3f5f\",\"arrowhead\":0,\"arrowwidth\":1},\"autotypenumbers\":\"strict\",\"coloraxis\":{\"colorbar\":{\"outlinewidth\":0,\"ticks\":\"\"}},\"colorscale\":{\"diverging\":[[0,\"#8e0152\"],[0.1,\"#c51b7d\"],[0.2,\"#de77ae\"],[0.3,\"#f1b6da\"],[0.4,\"#fde0ef\"],[0.5,\"#f7f7f7\"],[0.6,\"#e6f5d0\"],[0.7,\"#b8e186\"],[0.8,\"#7fbc41\"],[0.9,\"#4d9221\"],[1,\"#276419\"]],\"sequential\":[[0.0,\"#0d0887\"],[0.1111111111111111,\"#46039f\"],[0.2222222222222222,\"#7201a8\"],[0.3333333333333333,\"#9c179e\"],[0.4444444444444444,\"#bd3786\"],[0.5555555555555556,\"#d8576b\"],[0.6666666666666666,\"#ed7953\"],[0.7777777777777778,\"#fb9f3a\"],[0.8888888888888888,\"#fdca26\"],[1.0,\"#f0f921\"]],\"sequentialminus\":[[0.0,\"#0d0887\"],[0.1111111111111111,\"#46039f\"],[0.2222222222222222,\"#7201a8\"],[0.3333333333333333,\"#9c179e\"],[0.4444444444444444,\"#bd3786\"],[0.5555555555555556,\"#d8576b\"],[0.6666666666666666,\"#ed7953\"],[0.7777777777777778,\"#fb9f3a\"],[0.8888888888888888,\"#fdca26\"],[1.0,\"#f0f921\"]]},\"colorway\":[\"#636efa\",\"#EF553B\",\"#00cc96\",\"#ab63fa\",\"#FFA15A\",\"#19d3f3\",\"#FF6692\",\"#B6E880\",\"#FF97FF\",\"#FECB52\"],\"font\":{\"color\":\"#2a3f5f\"},\"geo\":{\"bgcolor\":\"white\",\"lakecolor\":\"white\",\"landcolor\":\"#E5ECF6\",\"showlakes\":true,\"showland\":true,\"subunitcolor\":\"white\"},\"hoverlabel\":{\"align\":\"left\"},\"hovermode\":\"closest\",\"mapbox\":{\"style\":\"light\"},\"paper_bgcolor\":\"white\",\"plot_bgcolor\":\"#E5ECF6\",\"polar\":{\"angularaxis\":{\"gridcolor\":\"white\",\"linecolor\":\"white\",\"ticks\":\"\"},\"bgcolor\":\"#E5ECF6\",\"radialaxis\":{\"gridcolor\":\"white\",\"linecolor\":\"white\",\"ticks\":\"\"}},\"scene\":{\"xaxis\":{\"backgroundcolor\":\"#E5ECF6\",\"gridcolor\":\"white\",\"gridwidth\":2,\"linecolor\":\"white\",\"showbackground\":true,\"ticks\":\"\",\"zerolinecolor\":\"white\"},\"yaxis\":{\"backgroundcolor\":\"#E5ECF6\",\"gridcolor\":\"white\",\"gridwidth\":2,\"linecolor\":\"white\",\"showbackground\":true,\"ticks\":\"\",\"zerolinecolor\":\"white\"},\"zaxis\":{\"backgroundcolor\":\"#E5ECF6\",\"gridcolor\":\"white\",\"gridwidth\":2,\"linecolor\":\"white\",\"showbackground\":true,\"ticks\":\"\",\"zerolinecolor\":\"white\"}},\"shapedefaults\":{\"line\":{\"color\":\"#2a3f5f\"}},\"ternary\":{\"aaxis\":{\"gridcolor\":\"white\",\"linecolor\":\"white\",\"ticks\":\"\"},\"baxis\":{\"gridcolor\":\"white\",\"linecolor\":\"white\",\"ticks\":\"\"},\"bgcolor\":\"#E5ECF6\",\"caxis\":{\"gridcolor\":\"white\",\"linecolor\":\"white\",\"ticks\":\"\"}},\"title\":{\"x\":0.05},\"xaxis\":{\"automargin\":true,\"gridcolor\":\"white\",\"linecolor\":\"white\",\"ticks\":\"\",\"title\":{\"standoff\":15},\"zerolinecolor\":\"white\",\"zerolinewidth\":2},\"yaxis\":{\"automargin\":true,\"gridcolor\":\"white\",\"linecolor\":\"white\",\"ticks\":\"\",\"title\":{\"standoff\":15},\"zerolinecolor\":\"white\",\"zerolinewidth\":2}}},\"xaxis\":{\"anchor\":\"y\",\"domain\":[0.0,1.0],\"title\":{\"text\":\"Year\"}},\"yaxis\":{\"anchor\":\"x\",\"domain\":[0.0,1.0],\"title\":{\"text\":\"sum of Descriptor.\"}},\"legend\":{\"title\":{\"text\":\"Borough\"},\"tracegroupgap\":0},\"title\":{\"text\":\"Number of Rat Sightings by Borough\"},\"barmode\":\"group\",\"height\":600,\"width\":900},                        {\"responsive\": true}                    ).then(function(){\n",
              "                            \n",
              "var gd = document.getElementById('71ccab08-dc01-4bfe-b4a6-2549eb03df84');\n",
              "var x = new MutationObserver(function (mutations, observer) {{\n",
              "        var display = window.getComputedStyle(gd).display;\n",
              "        if (!display || display === 'none') {{\n",
              "            console.log([gd, 'removed!']);\n",
              "            Plotly.purge(gd);\n",
              "            observer.disconnect();\n",
              "        }}\n",
              "}});\n",
              "\n",
              "// Listen for the removal of the full notebook cells\n",
              "var notebookContainer = gd.closest('#notebook-container');\n",
              "if (notebookContainer) {{\n",
              "    x.observe(notebookContainer, {childList: true});\n",
              "}}\n",
              "\n",
              "// Listen for the clearing of the current output cell\n",
              "var outputEl = gd.closest('.output');\n",
              "if (outputEl) {{\n",
              "    x.observe(outputEl, {childList: true});\n",
              "}}\n",
              "\n",
              "                        })                };                            </script>        </div>\n",
              "</body>\n",
              "</html>"
            ]
          },
          "metadata": {}
        }
      ]
    },
    {
      "cell_type": "markdown",
      "source": [
        "### ***`Interpretation: Further analysis for this period by breakdown of numbers based on idividual boroughs reveals that all the boroughs showed an increase. Brooklyn has the highest count.`***\n",
        "___"
      ],
      "metadata": {
        "id": "pKLRlY8u9jS9"
      }
    },
    {
      "cell_type": "markdown",
      "source": [
        "### ***d. Number of rat sightings complaints based on Location Type***"
      ],
      "metadata": {
        "id": "rt6UMfXmEdq4"
      }
    },
    {
      "cell_type": "code",
      "source": [
        "# Total counts for rat sighting complaints by location type\n",
        "df_rodent_location = df_rodent_new.groupby(['Location Type'])['Descriptor'].count().sort_values(ascending=False)\n",
        "df_rodent_location.head(10)"
      ],
      "metadata": {
        "colab": {
          "base_uri": "https://localhost:8080/"
        },
        "id": "Yc8Z-rMgu2EJ",
        "outputId": "afdd20ff-aa1a-4fe2-e6bd-815c1f2041bf"
      },
      "execution_count": 313,
      "outputs": [
        {
          "output_type": "execute_result",
          "data": {
            "text/plain": [
              "Location Type\n",
              "3+ Family Apt. Building          160475\n",
              "1-2 Family Dwelling               83144\n",
              "Other (Explain Below)             44966\n",
              "3+ Family Mixed Use Building      24644\n",
              "Commercial Building               20752\n",
              "Vacant Lot                        11749\n",
              "Construction Site                  6698\n",
              "1-2 Family Mixed Use Building      6676\n",
              "Vacant Building                    5862\n",
              "Parking Lot/Garage                 3419\n",
              "Name: Descriptor, dtype: int64"
            ]
          },
          "metadata": {},
          "execution_count": 313
        }
      ]
    },
    {
      "cell_type": "code",
      "source": [
        "# dropping index with unexplained data\n",
        "df_Location_new = df_rodent_location.drop(df_rodent_location.index[[2]])\n",
        "df_Location_new.head(10)"
      ],
      "metadata": {
        "colab": {
          "base_uri": "https://localhost:8080/"
        },
        "id": "exQFIXLyVoP8",
        "outputId": "7d635b55-efba-4d20-c2bd-71a62dbcd7b8"
      },
      "execution_count": 314,
      "outputs": [
        {
          "output_type": "execute_result",
          "data": {
            "text/plain": [
              "Location Type\n",
              "3+ Family Apt. Building          160475\n",
              "1-2 Family Dwelling               83144\n",
              "3+ Family Mixed Use Building      24644\n",
              "Commercial Building               20752\n",
              "Vacant Lot                        11749\n",
              "Construction Site                  6698\n",
              "1-2 Family Mixed Use Building      6676\n",
              "Vacant Building                    5862\n",
              "Parking Lot/Garage                 3419\n",
              "Catch Basin/Sewer                  2510\n",
              "Name: Descriptor, dtype: int64"
            ]
          },
          "metadata": {},
          "execution_count": 314
        }
      ]
    },
    {
      "cell_type": "code",
      "source": [
        "# Selecting top 10 locations with hightest counts of rat sighting\n",
        "df_Location = (df_Location_new.head(10))\n",
        "df_Location"
      ],
      "metadata": {
        "colab": {
          "base_uri": "https://localhost:8080/"
        },
        "id": "AvvbBCHvVoTS",
        "outputId": "fd0e6f01-da2c-4cbc-92f4-8429143710a3"
      },
      "execution_count": 315,
      "outputs": [
        {
          "output_type": "execute_result",
          "data": {
            "text/plain": [
              "Location Type\n",
              "3+ Family Apt. Building          160475\n",
              "1-2 Family Dwelling               83144\n",
              "3+ Family Mixed Use Building      24644\n",
              "Commercial Building               20752\n",
              "Vacant Lot                        11749\n",
              "Construction Site                  6698\n",
              "1-2 Family Mixed Use Building      6676\n",
              "Vacant Building                    5862\n",
              "Parking Lot/Garage                 3419\n",
              "Catch Basin/Sewer                  2510\n",
              "Name: Descriptor, dtype: int64"
            ]
          },
          "metadata": {},
          "execution_count": 315
        }
      ]
    },
    {
      "cell_type": "code",
      "source": [
        "# Figure 4 : Pie chart showing the top 10 location type \n",
        "ax = df_Location.plot(kind='pie', figsize=(10,10), autopct='%1.0f%%',explode = (0.03, 0, 0, 0,0,0,0,0,0,0),shadow=True, startangle=20, wedgeprops={'linewidth': 1.0, 'edgecolor': 'black'}, title ='Percentage of Rat Sighitings count by Location Type - Top 10')\n",
        "ax.axis('equal')"
      ],
      "metadata": {
        "colab": {
          "base_uri": "https://localhost:8080/",
          "height": 704
        },
        "id": "kl-9kUXU7c9m",
        "outputId": "1f9ae1b5-1f1e-4866-f4a4-e41ed3b950fe"
      },
      "execution_count": 316,
      "outputs": [
        {
          "output_type": "execute_result",
          "data": {
            "text/plain": [
              "(-1.1440943103829444,\n",
              " 1.10223041391662,\n",
              " -1.1100770162667404,\n",
              " 1.1627123137154325)"
            ]
          },
          "metadata": {},
          "execution_count": 316
        },
        {
          "output_type": "display_data",
          "data": {
            "text/plain": [
              "<Figure size 720x720 with 1 Axes>"
            ],
            "image/png": "[encoded data removed]"
          },
          "metadata": {}
        }
      ]
    },
    {
      "cell_type": "markdown",
      "source": [
        "### ***`Interpretation: Representation of the overall complaints received for rat sightings from 2010 to present based on location type. This indicates majority of the reports were from family type apartment buildings with 3 or more units.`***\n",
        "___"
      ],
      "metadata": {
        "id": "L4AoE2aIGKmS"
      }
    },
    {
      "cell_type": "markdown",
      "source": [
        "## **Conclusion:**\n",
        "\n",
        "Based on the the analysis and interpretation of the data, we can infer two \n",
        "\n",
        "1) Yearly trends indicate a sharp increase from 2020 through 2021, which coincides with the onset of Covid-19. This suggest the pandemic related changes, such as less human outdoor presence, may have played a role in increased rat activity and sightings. \n",
        "\n",
        "2) Location type based study indicates Family type buildings have more rat sightings. From this it can be inferred that food abundance near human habitation may attract rat activity.\n",
        "\n",
        "Futher study and research may be required to support the above conculsions.\n"
      ],
      "metadata": {
        "id": "vmzXp75qdvSy"
      }
    }
  ]
}